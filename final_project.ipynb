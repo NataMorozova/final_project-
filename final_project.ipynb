{
 "cells": [
  {
   "cell_type": "markdown",
   "metadata": {},
   "source": [
    "**Задание 1. A/B–тестирование**\n",
    "В ходе тестирования одной гипотезы целевой группе была предложена новая механика оплаты услуг на сайте, у контрольной группы оставалась базовая механика. В качестве задания Вам необходимо проанализировать итоги эксперимента и сделать вывод, стоит ли запускать новую механику оплаты на всех пользователей."
   ]
  },
  {
   "cell_type": "code",
   "execution_count": 1,
   "metadata": {},
   "outputs": [],
   "source": [
    "import pandas as pd\n",
    "import numpy as np\n",
    "import seaborn as sns\n",
    "import matplotlib.pylab as plt\n",
    "%matplotlib inline\n",
    "\n",
    "# Загружаем библиотеки для парсинга с яндекс-диска\n",
    "import requests\n",
    "import json\n",
    "from urllib.parse import urlencode\n",
    "\n",
    "from scipy.stats import chi2_contingency, norm\n",
    "\n",
    "from tqdm.auto import tqdm\n",
    "import pandahouse as ph\n",
    "\n",
    "plt.style.use('ggplot')"
   ]
  },
  {
   "cell_type": "code",
   "execution_count": 2,
   "metadata": {},
   "outputs": [],
   "source": [
    "def get_data(df_url, sep=';'):\n",
    "    base_url = 'https://cloud-api.yandex.net/v1/disk/public/resources/download?'\n",
    "    \n",
    "    # Формируем загрузочную ссылку\n",
    "    final_url = base_url + urlencode(dict(public_key=df_url))\n",
    "    response = requests.get(final_url)\n",
    "    download_url = response.json()['href']\n",
    "\n",
    "    # Преобразуем датафрейм из полученного файла\n",
    "    df = pd.read_csv(download_url, sep=sep)\n",
    "    \n",
    "    return df"
   ]
  },
  {
   "cell_type": "code",
   "execution_count": 3,
   "metadata": {},
   "outputs": [],
   "source": [
    "groups_url = 'https://disk.yandex.ru/d/58Us0DWOzuWAjg'\n",
    "group_add_url = 'https://disk.yandex.ru/d/3aARY-P9pfaksg'\n",
    "active_studs_url = 'https://disk.yandex.ru/d/prbgU-rZpiXVYg'\n",
    "checks_url = 'https://disk.yandex.ru/d/84hTmELphW2sqQ'"
   ]
  },
  {
   "cell_type": "markdown",
   "metadata": {},
   "source": [
    "Логика такова: имеется 4 дата-сета (groups и group_add с разделением на А/B группы, active_students - участники эксперимента, checks - участники, которые произвели оплаты). Нас интересуют непосредственно участники эксперимента (пользователи зашедшие на платформу в дни эксперимента и из них уже делим на группы А/B, за метрику \"успешности\" эксперимента берём оплату (брать больше и нечего), а именно: CR, ARPU, ARPPU, так как нас интересует стали ли больше покупать что бы мы там не продавали (конверсия в покупку) и приносит это нам большую прибыль или нет (средний чек на акт. пользователя и средний чек на платящего пользователя). "
   ]
  },
  {
   "cell_type": "code",
   "execution_count": 4,
   "metadata": {},
   "outputs": [
    {
     "data": {
      "text/html": [
       "<div>\n",
       "<style scoped>\n",
       "    .dataframe tbody tr th:only-of-type {\n",
       "        vertical-align: middle;\n",
       "    }\n",
       "\n",
       "    .dataframe tbody tr th {\n",
       "        vertical-align: top;\n",
       "    }\n",
       "\n",
       "    .dataframe thead th {\n",
       "        text-align: right;\n",
       "    }\n",
       "</style>\n",
       "<table border=\"1\" class=\"dataframe\">\n",
       "  <thead>\n",
       "    <tr style=\"text-align: right;\">\n",
       "      <th></th>\n",
       "      <th>id</th>\n",
       "      <th>grp</th>\n",
       "    </tr>\n",
       "  </thead>\n",
       "  <tbody>\n",
       "    <tr>\n",
       "      <th>0</th>\n",
       "      <td>1489</td>\n",
       "      <td>B</td>\n",
       "    </tr>\n",
       "    <tr>\n",
       "      <th>1</th>\n",
       "      <td>1627</td>\n",
       "      <td>A</td>\n",
       "    </tr>\n",
       "    <tr>\n",
       "      <th>2</th>\n",
       "      <td>1768</td>\n",
       "      <td>B</td>\n",
       "    </tr>\n",
       "  </tbody>\n",
       "</table>\n",
       "</div>"
      ],
      "text/plain": [
       "     id grp\n",
       "0  1489   B\n",
       "1  1627   A\n",
       "2  1768   B"
      ]
     },
     "execution_count": 4,
     "metadata": {},
     "output_type": "execute_result"
    }
   ],
   "source": [
    "# файл с инф-цией о принадлежности пользователя к группе (А – контроль, B – целевая группа) \n",
    "groups = get_data(groups_url)\n",
    "groups[:3]"
   ]
  },
  {
   "cell_type": "code",
   "execution_count": 5,
   "metadata": {},
   "outputs": [
    {
     "data": {
      "text/plain": [
       "(74484, 2)"
      ]
     },
     "execution_count": 5,
     "metadata": {},
     "output_type": "execute_result"
    }
   ],
   "source": [
    "groups.shape"
   ]
  },
  {
   "cell_type": "code",
   "execution_count": 6,
   "metadata": {},
   "outputs": [
    {
     "data": {
      "text/html": [
       "<div>\n",
       "<style scoped>\n",
       "    .dataframe tbody tr th:only-of-type {\n",
       "        vertical-align: middle;\n",
       "    }\n",
       "\n",
       "    .dataframe tbody tr th {\n",
       "        vertical-align: top;\n",
       "    }\n",
       "\n",
       "    .dataframe thead th {\n",
       "        text-align: right;\n",
       "    }\n",
       "</style>\n",
       "<table border=\"1\" class=\"dataframe\">\n",
       "  <thead>\n",
       "    <tr style=\"text-align: right;\">\n",
       "      <th></th>\n",
       "      <th>id</th>\n",
       "      <th>grp</th>\n",
       "    </tr>\n",
       "  </thead>\n",
       "  <tbody>\n",
       "    <tr>\n",
       "      <th>0</th>\n",
       "      <td>5694584</td>\n",
       "      <td>B</td>\n",
       "    </tr>\n",
       "    <tr>\n",
       "      <th>1</th>\n",
       "      <td>5694830</td>\n",
       "      <td>B</td>\n",
       "    </tr>\n",
       "    <tr>\n",
       "      <th>2</th>\n",
       "      <td>5695057</td>\n",
       "      <td>B</td>\n",
       "    </tr>\n",
       "  </tbody>\n",
       "</table>\n",
       "</div>"
      ],
      "text/plain": [
       "        id grp\n",
       "0  5694584   B\n",
       "1  5694830   B\n",
       "2  5695057   B"
      ]
     },
     "execution_count": 6,
     "metadata": {},
     "output_type": "execute_result"
    }
   ],
   "source": [
    "# дополнительный файл с пользователями, который вам прислали спустя 2 дня после передачи данных\n",
    "group_add = get_data(group_add_url, sep=',')\n",
    "group_add[:3]"
   ]
  },
  {
   "cell_type": "code",
   "execution_count": 7,
   "metadata": {},
   "outputs": [
    {
     "data": {
      "text/plain": [
       "(92, 2)"
      ]
     },
     "execution_count": 7,
     "metadata": {},
     "output_type": "execute_result"
    }
   ],
   "source": [
    "group_add.shape"
   ]
  },
  {
   "cell_type": "code",
   "execution_count": 8,
   "metadata": {},
   "outputs": [],
   "source": [
    "# сразу coединим дата-сеты\n",
    "final_groups = pd.concat([groups, group_add])"
   ]
  },
  {
   "cell_type": "code",
   "execution_count": 9,
   "metadata": {},
   "outputs": [
    {
     "data": {
      "text/plain": [
       "(74576, 2)"
      ]
     },
     "execution_count": 9,
     "metadata": {},
     "output_type": "execute_result"
    }
   ],
   "source": [
    "final_groups.shape"
   ]
  },
  {
   "cell_type": "code",
   "execution_count": 10,
   "metadata": {},
   "outputs": [
    {
     "data": {
      "text/plain": [
       "74576"
      ]
     },
     "execution_count": 10,
     "metadata": {},
     "output_type": "execute_result"
    }
   ],
   "source": [
    "# проверим id на уникальность -> всё хорошо \n",
    "final_groups.id.nunique()"
   ]
  },
  {
   "cell_type": "code",
   "execution_count": 11,
   "metadata": {},
   "outputs": [
    {
     "data": {
      "text/plain": [
       "id     0\n",
       "grp    0\n",
       "dtype: int64"
      ]
     },
     "execution_count": 11,
     "metadata": {},
     "output_type": "execute_result"
    }
   ],
   "source": [
    "# пропусков нет \n",
    "final_groups.isna().sum()"
   ]
  },
  {
   "cell_type": "code",
   "execution_count": 12,
   "metadata": {},
   "outputs": [
    {
     "data": {
      "text/html": [
       "<div>\n",
       "<style scoped>\n",
       "    .dataframe tbody tr th:only-of-type {\n",
       "        vertical-align: middle;\n",
       "    }\n",
       "\n",
       "    .dataframe tbody tr th {\n",
       "        vertical-align: top;\n",
       "    }\n",
       "\n",
       "    .dataframe thead th {\n",
       "        text-align: right;\n",
       "    }\n",
       "</style>\n",
       "<table border=\"1\" class=\"dataframe\">\n",
       "  <thead>\n",
       "    <tr style=\"text-align: right;\">\n",
       "      <th></th>\n",
       "      <th>student_id</th>\n",
       "    </tr>\n",
       "  </thead>\n",
       "  <tbody>\n",
       "    <tr>\n",
       "      <th>0</th>\n",
       "      <td>581585</td>\n",
       "    </tr>\n",
       "    <tr>\n",
       "      <th>1</th>\n",
       "      <td>5723133</td>\n",
       "    </tr>\n",
       "    <tr>\n",
       "      <th>2</th>\n",
       "      <td>3276743</td>\n",
       "    </tr>\n",
       "  </tbody>\n",
       "</table>\n",
       "</div>"
      ],
      "text/plain": [
       "   student_id\n",
       "0      581585\n",
       "1     5723133\n",
       "2     3276743"
      ]
     },
     "execution_count": 12,
     "metadata": {},
     "output_type": "execute_result"
    }
   ],
   "source": [
    "# файл с информацией о пользователях, которые зашли на платформу в дни проведения эксперимента\n",
    "active_students = get_data(active_studs_url)\n",
    "active_students[:3]"
   ]
  },
  {
   "cell_type": "code",
   "execution_count": 13,
   "metadata": {},
   "outputs": [
    {
     "data": {
      "text/plain": [
       "(8341, 1)"
      ]
     },
     "execution_count": 13,
     "metadata": {},
     "output_type": "execute_result"
    }
   ],
   "source": [
    "active_students.shape"
   ]
  },
  {
   "cell_type": "code",
   "execution_count": 14,
   "metadata": {},
   "outputs": [
    {
     "data": {
      "text/plain": [
       "8341"
      ]
     },
     "execution_count": 14,
     "metadata": {},
     "output_type": "execute_result"
    }
   ],
   "source": [
    "active_students.student_id.nunique()"
   ]
  },
  {
   "cell_type": "code",
   "execution_count": 15,
   "metadata": {},
   "outputs": [
    {
     "data": {
      "text/plain": [
       "student_id    0\n",
       "dtype: int64"
      ]
     },
     "execution_count": 15,
     "metadata": {},
     "output_type": "execute_result"
    }
   ],
   "source": [
    "active_students.isna().sum()"
   ]
  },
  {
   "cell_type": "code",
   "execution_count": 16,
   "metadata": {},
   "outputs": [
    {
     "data": {
      "text/html": [
       "<div>\n",
       "<style scoped>\n",
       "    .dataframe tbody tr th:only-of-type {\n",
       "        vertical-align: middle;\n",
       "    }\n",
       "\n",
       "    .dataframe tbody tr th {\n",
       "        vertical-align: top;\n",
       "    }\n",
       "\n",
       "    .dataframe thead th {\n",
       "        text-align: right;\n",
       "    }\n",
       "</style>\n",
       "<table border=\"1\" class=\"dataframe\">\n",
       "  <thead>\n",
       "    <tr style=\"text-align: right;\">\n",
       "      <th></th>\n",
       "      <th>student_id</th>\n",
       "      <th>rev</th>\n",
       "    </tr>\n",
       "  </thead>\n",
       "  <tbody>\n",
       "    <tr>\n",
       "      <th>0</th>\n",
       "      <td>1627</td>\n",
       "      <td>990.0</td>\n",
       "    </tr>\n",
       "    <tr>\n",
       "      <th>1</th>\n",
       "      <td>3185</td>\n",
       "      <td>690.0</td>\n",
       "    </tr>\n",
       "    <tr>\n",
       "      <th>2</th>\n",
       "      <td>25973</td>\n",
       "      <td>690.0</td>\n",
       "    </tr>\n",
       "  </tbody>\n",
       "</table>\n",
       "</div>"
      ],
      "text/plain": [
       "   student_id    rev\n",
       "0        1627  990.0\n",
       "1        3185  690.0\n",
       "2       25973  690.0"
      ]
     },
     "execution_count": 16,
     "metadata": {},
     "output_type": "execute_result"
    }
   ],
   "source": [
    "# файл с информацией об оплатах пользователей в дни проведения эксперимента\n",
    "checks = get_data(checks_url)\n",
    "checks[:3]"
   ]
  },
  {
   "cell_type": "code",
   "execution_count": 17,
   "metadata": {},
   "outputs": [
    {
     "data": {
      "text/plain": [
       "(541, 2)"
      ]
     },
     "execution_count": 17,
     "metadata": {},
     "output_type": "execute_result"
    }
   ],
   "source": [
    "checks.shape"
   ]
  },
  {
   "cell_type": "code",
   "execution_count": 18,
   "metadata": {},
   "outputs": [
    {
     "data": {
      "text/plain": [
       "student_id    0\n",
       "rev           0\n",
       "dtype: int64"
      ]
     },
     "execution_count": 18,
     "metadata": {},
     "output_type": "execute_result"
    }
   ],
   "source": [
    "checks.isna().sum()"
   ]
  },
  {
   "cell_type": "markdown",
   "metadata": {},
   "source": [
    "Пропущенных значений в датасетах нет, все значения ID уникальны"
   ]
  },
  {
   "cell_type": "code",
   "execution_count": 19,
   "metadata": {},
   "outputs": [],
   "source": [
    "active_students['active'] = 1"
   ]
  },
  {
   "cell_type": "code",
   "execution_count": 20,
   "metadata": {},
   "outputs": [],
   "source": [
    "# мерджим активных пользователех с платниками\n",
    "act_checks = active_students.merge(checks, how='outer', on='student_id') \\\n",
    "    .rename(columns={\"student_id\": \"id\", \"rev\": \"payment\"}) "
   ]
  },
  {
   "cell_type": "code",
   "execution_count": 21,
   "metadata": {},
   "outputs": [],
   "source": [
    "full_data = act_checks.merge(final_groups, on='id', how='outer') \\\n",
    "    .fillna(0)  # заменим пропущенные значение на 0"
   ]
  },
  {
   "cell_type": "code",
   "execution_count": 22,
   "metadata": {},
   "outputs": [
    {
     "data": {
      "text/html": [
       "<div>\n",
       "<style scoped>\n",
       "    .dataframe tbody tr th:only-of-type {\n",
       "        vertical-align: middle;\n",
       "    }\n",
       "\n",
       "    .dataframe tbody tr th {\n",
       "        vertical-align: top;\n",
       "    }\n",
       "\n",
       "    .dataframe thead th {\n",
       "        text-align: right;\n",
       "    }\n",
       "</style>\n",
       "<table border=\"1\" class=\"dataframe\">\n",
       "  <thead>\n",
       "    <tr style=\"text-align: right;\">\n",
       "      <th></th>\n",
       "      <th>id</th>\n",
       "      <th>active</th>\n",
       "      <th>payment</th>\n",
       "      <th>grp</th>\n",
       "    </tr>\n",
       "  </thead>\n",
       "  <tbody>\n",
       "    <tr>\n",
       "      <th>0</th>\n",
       "      <td>581585</td>\n",
       "      <td>1.0</td>\n",
       "      <td>0.0</td>\n",
       "      <td>A</td>\n",
       "    </tr>\n",
       "    <tr>\n",
       "      <th>1</th>\n",
       "      <td>5723133</td>\n",
       "      <td>1.0</td>\n",
       "      <td>0.0</td>\n",
       "      <td>A</td>\n",
       "    </tr>\n",
       "  </tbody>\n",
       "</table>\n",
       "</div>"
      ],
      "text/plain": [
       "        id  active  payment grp\n",
       "0   581585     1.0      0.0   A\n",
       "1  5723133     1.0      0.0   A"
      ]
     },
     "execution_count": 22,
     "metadata": {},
     "output_type": "execute_result"
    }
   ],
   "source": [
    "full_data[:2]"
   ]
  },
  {
   "cell_type": "code",
   "execution_count": 23,
   "metadata": {},
   "outputs": [
    {
     "name": "stdout",
     "output_type": "stream",
     "text": [
      "<class 'pandas.core.frame.DataFrame'>\n",
      "Int64Index: 74576 entries, 0 to 74575\n",
      "Data columns (total 4 columns):\n",
      " #   Column   Non-Null Count  Dtype  \n",
      "---  ------   --------------  -----  \n",
      " 0   id       74576 non-null  int64  \n",
      " 1   active   74576 non-null  float64\n",
      " 2   payment  74576 non-null  float64\n",
      " 3   grp      74576 non-null  object \n",
      "dtypes: float64(2), int64(1), object(1)\n",
      "memory usage: 2.8+ MB\n"
     ]
    }
   ],
   "source": [
    "# проверяем типы данных \n",
    "full_data.info()"
   ]
  },
  {
   "cell_type": "code",
   "execution_count": 24,
   "metadata": {},
   "outputs": [],
   "source": [
    "# зададим значения, где наличие покупки -> 1, отсутвие покупки -> 0\n",
    "full_data['purchase'] = np.where(full_data.payment > 0, 1, 0)"
   ]
  },
  {
   "cell_type": "code",
   "execution_count": 25,
   "metadata": {},
   "outputs": [],
   "source": [
    "full_data = full_data[['id', \n",
    "                       'grp', \n",
    "                       'payment',\n",
    "                       'active',\n",
    "                       'purchase']]"
   ]
  },
  {
   "cell_type": "code",
   "execution_count": 26,
   "metadata": {},
   "outputs": [
    {
     "data": {
      "text/plain": [
       "392"
      ]
     },
     "execution_count": 26,
     "metadata": {},
     "output_type": "execute_result"
    }
   ],
   "source": [
    "# оплатили и участвовали в эксперименте \n",
    "full_data.query('payment > 0 & active == 1').shape[0]"
   ]
  },
  {
   "cell_type": "code",
   "execution_count": 27,
   "metadata": {},
   "outputs": [
    {
     "data": {
      "text/plain": [
       "7949"
      ]
     },
     "execution_count": 27,
     "metadata": {},
     "output_type": "execute_result"
    }
   ],
   "source": [
    "# не совершали покупку и участвовали в эксперименте \n",
    "full_data.query('payment == 0 & active == 1').shape[0]"
   ]
  },
  {
   "cell_type": "code",
   "execution_count": 28,
   "metadata": {},
   "outputs": [
    {
     "data": {
      "text/plain": [
       "149"
      ]
     },
     "execution_count": 28,
     "metadata": {},
     "output_type": "execute_result"
    }
   ],
   "source": [
    "# оплатили и не учавствовали в эксперименте\n",
    "full_data.query('payment > 0 & active == 0').shape[0]"
   ]
  },
  {
   "cell_type": "code",
   "execution_count": 29,
   "metadata": {},
   "outputs": [
    {
     "data": {
      "text/plain": [
       "66086"
      ]
     },
     "execution_count": 29,
     "metadata": {},
     "output_type": "execute_result"
    }
   ],
   "source": [
    "# не оплатили и не учавствовали в эксперименте\n",
    "full_data.query('payment == 0 & active == 0').shape[0]"
   ]
  },
  {
   "cell_type": "markdown",
   "metadata": {},
   "source": [
    "В первую очередь нас интересуют участники эксперимента, но мы наблюдаем наличие 149 пользователя, которые произвели оплату, но не заходили на платформу, это мог быть автоплатеж или баг и они на самом деле были активные, но так как у нас нет никакой информации помимо преложенных df, то мы не будем включать этих пользователей для дальнейшего исследования."
   ]
  },
  {
   "cell_type": "code",
   "execution_count": 30,
   "metadata": {},
   "outputs": [],
   "source": [
    "# формируем  дата-сет с которым будем работать в дальнейшем\n",
    "data_active = full_data.query('active == 1')"
   ]
  },
  {
   "cell_type": "code",
   "execution_count": 31,
   "metadata": {},
   "outputs": [
    {
     "data": {
      "text/plain": [
       "B    6803\n",
       "A    1538\n",
       "Name: grp, dtype: int64"
      ]
     },
     "execution_count": 31,
     "metadata": {},
     "output_type": "execute_result"
    }
   ],
   "source": [
    "# смотрим какое распределение по группам \n",
    "data_active.grp.value_counts()"
   ]
  },
  {
   "cell_type": "code",
   "execution_count": 32,
   "metadata": {},
   "outputs": [
    {
     "data": {
      "text/plain": [
       "B    0.81561\n",
       "A    0.18439\n",
       "Name: grp, dtype: float64"
      ]
     },
     "execution_count": 32,
     "metadata": {},
     "output_type": "execute_result"
    }
   ],
   "source": [
    "# можно заметить дисбаланс в выборках (≈20/80)\n",
    "data_active.grp.value_counts(normalize=True)"
   ]
  },
  {
   "cell_type": "code",
   "execution_count": 33,
   "metadata": {},
   "outputs": [
    {
     "data": {
      "text/plain": [
       "B    314\n",
       "A     78\n",
       "Name: grp, dtype: int64"
      ]
     },
     "execution_count": 33,
     "metadata": {},
     "output_type": "execute_result"
    }
   ],
   "source": [
    "# распределение по группам среди платящих пользователей \n",
    "data_active.query('payment > 0').grp.value_counts()"
   ]
  },
  {
   "cell_type": "code",
   "execution_count": 34,
   "metadata": {},
   "outputs": [
    {
     "data": {
      "text/plain": [
       "B    0.80102\n",
       "A    0.19898\n",
       "Name: grp, dtype: float64"
      ]
     },
     "execution_count": 34,
     "metadata": {},
     "output_type": "execute_result"
    }
   ],
   "source": [
    "# картина схожая \n",
    "data_active.query('payment > 0').grp.value_counts(normalize=True)"
   ]
  },
  {
   "cell_type": "code",
   "execution_count": 35,
   "metadata": {},
   "outputs": [
    {
     "data": {
      "text/plain": [
       "290.0     25\n",
       "580.0      6\n",
       "990.0      5\n",
       "590.0      5\n",
       "199.0      5\n",
       "690.0      4\n",
       "1530.0     3\n",
       "3660.0     3\n",
       "840.0      3\n",
       "1140.0     2\n",
       "489.0      2\n",
       "1160.0     2\n",
       "2820.0     2\n",
       "2910.0     2\n",
       "2890.0     1\n",
       "1180.0     1\n",
       "2900.0     1\n",
       "1830.0     1\n",
       "2220.0     1\n",
       "870.0      1\n",
       "398.0      1\n",
       "1980.0     1\n",
       "1039.0     1\n",
       "Name: payment, dtype: int64"
      ]
     },
     "execution_count": 35,
     "metadata": {},
     "output_type": "execute_result"
    }
   ],
   "source": [
    "data_active.query('payment > 0 & grp == \"A\"').payment.value_counts()"
   ]
  },
  {
   "cell_type": "code",
   "execution_count": 36,
   "metadata": {},
   "outputs": [
    {
     "data": {
      "text/plain": [
       "1900.0000    93\n",
       "290.0000     45\n",
       "1900.0001    35\n",
       "199.0000     27\n",
       "840.0000     21\n",
       "990.0000     17\n",
       "690.0000     13\n",
       "1140.0000     9\n",
       "590.0000      6\n",
       "398.0000      6\n",
       "870.0000      5\n",
       "580.0000      5\n",
       "1530.0000     5\n",
       "2890.0000     3\n",
       "2099.0000     3\n",
       "1980.0000     2\n",
       "3660.0000     2\n",
       "2910.0000     2\n",
       "796.0000      1\n",
       "1388.0000     1\n",
       "489.0000      1\n",
       "1160.0000     1\n",
       "2190.0000     1\n",
       "3040.0000     1\n",
       "1968.0000     1\n",
       "880.0000      1\n",
       "1729.0000     1\n",
       "2220.0000     1\n",
       "1339.0000     1\n",
       "4650.0000     1\n",
       "1050.0000     1\n",
       "597.0000      1\n",
       "3260.0000     1\n",
       "Name: payment, dtype: int64"
      ]
     },
     "execution_count": 36,
     "metadata": {},
     "output_type": "execute_result"
    }
   ],
   "source": [
    "data_active.query('payment > 0 & grp == \"B\"').payment.value_counts()"
   ]
  },
  {
   "cell_type": "markdown",
   "metadata": {},
   "source": [
    "Перейдем непосредсвенно к метрикам: "
   ]
  },
  {
   "cell_type": "markdown",
   "metadata": {},
   "source": [
    "### CR"
   ]
  },
  {
   "cell_type": "markdown",
   "metadata": {},
   "source": [
    "**Conversion rate, CR** — отношение числа пользователей, которые выполнили какое-либо целевое действие к общему числу пользователей. CR - метрика категориальная, то есть пользователь либо произвел оплату (1), либо нет (2), поэтому для проверки гипотезы выберем тест - хи-квадрат."
   ]
  },
  {
   "cell_type": "markdown",
   "metadata": {},
   "source": [
    "### Гипотеза (CR): \n",
    "\n",
    "H0 - Конверсии контольной и тестовой (целевой) групп статистически не различаются.\n",
    "\n",
    "H1 - Конверсии имеются статистически значимые различия между контольной и тестовой группами."
   ]
  },
  {
   "cell_type": "code",
   "execution_count": 37,
   "metadata": {},
   "outputs": [],
   "source": [
    "a_group = data_active.query('grp==\"A\"')\n",
    "b_group = data_active.query('grp==\"B\"')"
   ]
  },
  {
   "cell_type": "code",
   "execution_count": 38,
   "metadata": {},
   "outputs": [
    {
     "name": "stdout",
     "output_type": "stream",
     "text": [
      "CR для контрольной группы 0.051!\n",
      "CR для целевой группы 0.046!\n",
      "Конверсия в покупку у контрольной группы больше, чем у тестовой на 10.87%!\n"
     ]
    }
   ],
   "source": [
    "# расчитываем конверсию в покупку внутри групп \n",
    "cr_a = round(a_group.query('payment > 0').id.count() / a_group.id.count(), 3)\n",
    "cr_b = round(b_group.query('payment > 0').id.count() / b_group.id.count(), 3)\n",
    "diff_cr = round((cr_a / cr_b-1) * 100, 2)\n",
    "print(f'CR для контрольной группы {cr_a}!')\n",
    "print(f'CR для целевой группы {cr_b}!')\n",
    "print(f'Конверсия в покупку у контрольной группы больше, чем у тестовой на {diff_cr}%!')"
   ]
  },
  {
   "cell_type": "code",
   "execution_count": 39,
   "metadata": {},
   "outputs": [
    {
     "data": {
      "text/html": [
       "<div>\n",
       "<style scoped>\n",
       "    .dataframe tbody tr th:only-of-type {\n",
       "        vertical-align: middle;\n",
       "    }\n",
       "\n",
       "    .dataframe tbody tr th {\n",
       "        vertical-align: top;\n",
       "    }\n",
       "\n",
       "    .dataframe thead th {\n",
       "        text-align: right;\n",
       "    }\n",
       "</style>\n",
       "<table border=\"1\" class=\"dataframe\">\n",
       "  <thead>\n",
       "    <tr style=\"text-align: right;\">\n",
       "      <th>purchase</th>\n",
       "      <th>0</th>\n",
       "      <th>1</th>\n",
       "    </tr>\n",
       "    <tr>\n",
       "      <th>grp</th>\n",
       "      <th></th>\n",
       "      <th></th>\n",
       "    </tr>\n",
       "  </thead>\n",
       "  <tbody>\n",
       "    <tr>\n",
       "      <th>A</th>\n",
       "      <td>1460</td>\n",
       "      <td>78</td>\n",
       "    </tr>\n",
       "    <tr>\n",
       "      <th>B</th>\n",
       "      <td>6489</td>\n",
       "      <td>314</td>\n",
       "    </tr>\n",
       "  </tbody>\n",
       "</table>\n",
       "</div>"
      ],
      "text/plain": [
       "purchase     0    1\n",
       "grp                \n",
       "A         1460   78\n",
       "B         6489  314"
      ]
     },
     "execution_count": 39,
     "metadata": {},
     "output_type": "execute_result"
    }
   ],
   "source": [
    "# перегруппируем \n",
    "data_active_crosstab = pd.crosstab(data_active.grp, data_active.purchase)\n",
    "data_active_crosstab"
   ]
  },
  {
   "cell_type": "code",
   "execution_count": 40,
   "metadata": {},
   "outputs": [
    {
     "name": "stdout",
     "output_type": "stream",
     "text": [
      "P-value 0.486 > 0.05, т.e. cтатистически значимых различий конверсий между экспериментальной и контрольной групп \n",
      "не наблюдается. Принимаем H0!\n"
     ]
    }
   ],
   "source": [
    "stat, p_chi, dof, expected = chi2_contingency(data_active_crosstab)\n",
    "p_chi = p_chi.round(3)\n",
    "print(f'P-value {p_chi} > 0.05, т.e. cтатистически значимых различий конверсий между экспериментальной и контрольной групп \\nне наблюдается. Принимаем H0!')"
   ]
  },
  {
   "cell_type": "markdown",
   "metadata": {},
   "source": [
    "Теперь перейдем к колличественным метрикам."
   ]
  },
  {
   "cell_type": "code",
   "execution_count": 41,
   "metadata": {},
   "outputs": [],
   "source": [
    "paying_users = data_active.query('payment > 0')"
   ]
  },
  {
   "cell_type": "code",
   "execution_count": 42,
   "metadata": {},
   "outputs": [
    {
     "data": {
      "text/plain": [
       "<matplotlib.axes._subplots.AxesSubplot at 0x7f6956dfaef0>"
      ]
     },
     "execution_count": 42,
     "metadata": {},
     "output_type": "execute_result"
    },
    {
     "data": {
      "image/png": "[encoded data removed]",
      "text/plain": [
       "<Figure size 864x576 with 1 Axes>"
      ]
     },
     "metadata": {},
     "output_type": "display_data"
    }
   ],
   "source": [
    "# контрольная и целевая группы\n",
    "plt.figure(figsize=(12, 8))\n",
    "sns.histplot(data=paying_users, x='payment', hue='grp')"
   ]
  },
  {
   "cell_type": "code",
   "execution_count": 43,
   "metadata": {},
   "outputs": [
    {
     "data": {
      "text/plain": [
       "<matplotlib.axes._subplots.AxesSubplot at 0x7f6956e020b8>"
      ]
     },
     "execution_count": 43,
     "metadata": {},
     "output_type": "execute_result"
    },
    {
     "data": {
      "image/png": "[encoded data removed]",
      "text/plain": [
       "<Figure size 720x432 with 1 Axes>"
      ]
     },
     "metadata": {},
     "output_type": "display_data"
    }
   ],
   "source": [
    "# по боксплоту можно заметить, что пользователи группы B совершают больше оплат на бОльшую сумму\n",
    "# но явлеются ли различия стат. значимыми определим позже\n",
    "plt.figure(figsize=(10, 6))\n",
    "sns.boxplot(x='payment', y='grp', data=paying_users, palette='coolwarm')"
   ]
  },
  {
   "cell_type": "markdown",
   "metadata": {},
   "source": [
    "### Выбор теста\n",
    "\n",
    "**Т-тест** отклоняем из-за маленького количества наблюдений в выборках с явно ненормальным распределением.\n",
    "\n",
    "Не смотря на то, что **критерий Манна-Уитни** устойчив к выбросам, которые наблюдаются в наших выборках, но для проверки гипотез о равенстве средних данный критерий не подходит из-за специфики работы самого критерия (условно \"благосклонно\" влияет на пользователей с мелкой выручкой и не очень на пользователей с большой выручкой из-за большого кол-ва повторяющихся значений, что может привести к некорректным результатам). \n",
    "\n",
    "Остается **Bootstrap**. Бутстрап — это универсальный стат. метод, когда еще бесконечно-вечные тайны статистики не освоены, а метод выбрать надо. Главный недостаток - это скорость обработки, но наши условно небольшие выборки позволяют его использовать. Тем не менее, выбор именно этого критерия был обусловлен дисбалансом в наших выборках и их размером."
   ]
  },
  {
   "cell_type": "markdown",
   "metadata": {},
   "source": [
    "### ARPU\n",
    "**ARPU** - средний платеж на всех активных пользователей. "
   ]
  },
  {
   "cell_type": "markdown",
   "metadata": {},
   "source": [
    "### Гипотеза для ARPU:\n",
    "Н0: Разница между ARPU в тестовой и контрольной группе отсутствует.\n",
    "\n",
    "Н1: Разница между ARPU в тестовой и контрольной группе статистически значима."
   ]
  },
  {
   "cell_type": "code",
   "execution_count": 44,
   "metadata": {},
   "outputs": [
    {
     "name": "stdout",
     "output_type": "stream",
     "text": [
      "ARPU для контрольной группы 47.35!\n",
      "ARPU для целевой группы 58.06!\n",
      "Средний чек на акт. пользователя увеличился на 22.62%!\n"
     ]
    }
   ],
   "source": [
    "arpu_a = round(a_group.payment.sum() / a_group.agg({'id':'count'})[0], 2)\n",
    "arpu_b = round(b_group.payment.sum() / b_group.agg({'id':'count'})[0], 2)\n",
    "diff_arpu = round((arpu_b/arpu_a-1) * 100, 2)\n",
    "print(f'ARPU для контрольной группы {arpu_a}!')\n",
    "print(f'ARPU для целевой группы {arpu_b}!')\n",
    "print(f'Средний чек на акт. пользователя увеличился на {diff_arpu}%!')"
   ]
  },
  {
   "cell_type": "code",
   "execution_count": 45,
   "metadata": {},
   "outputs": [],
   "source": [
    "def get_bootstrap(\n",
    "    data_column_1, # firts sample values\n",
    "    data_column_2, # second sample values\n",
    "    boot_it = 1000, # number of bootstrap subsamples\n",
    "    statistic = np.mean, # statistics we need\n",
    "    bootstrap_conf_level = 0.95 # confidence level\n",
    "):\n",
    "    boot_len = max([len(data_column_1), len(data_column_2)])\n",
    "    boot_data = []\n",
    "    for i in tqdm(range(boot_it)): # taking subsamples\n",
    "        samples_1 = data_column_1.sample(\n",
    "            boot_len, \n",
    "            replace = True \n",
    "        ).values\n",
    "        \n",
    "        samples_2 = data_column_2.sample(\n",
    "            boot_len, \n",
    "            replace = True\n",
    "        ).values\n",
    "        \n",
    "        boot_data.append(statistic(samples_1)-statistic(samples_2)) # using statistic function\n",
    "        \n",
    "    pd_boot_data = pd.DataFrame(boot_data)\n",
    "        \n",
    "    left_quant = (1 - bootstrap_conf_level)/2\n",
    "    right_quant = 1 - (1 - bootstrap_conf_level) / 2\n",
    "    ci = pd_boot_data.quantile([left_quant, right_quant])\n",
    "        \n",
    "    p_1 = norm.cdf(\n",
    "        x = 0, \n",
    "        loc = np.mean(boot_data), \n",
    "        scale = np.std(boot_data)\n",
    "    )\n",
    "    p_2 = norm.cdf(\n",
    "        x = 0, \n",
    "        loc = -np.mean(boot_data), \n",
    "        scale = np.std(boot_data)\n",
    "    )\n",
    "    p_value = min(p_1, p_2) * 2\n",
    "        \n",
    "    # Визуализация\n",
    "    plt.hist(pd_boot_data[0], bins = 50)\n",
    "    \n",
    "    plt.style.use('ggplot')\n",
    "    plt.vlines(ci,ymin=0,ymax=50,linestyle='--')\n",
    "    plt.xlabel('boot_data')\n",
    "    plt.ylabel('frequency')\n",
    "    plt.title(\"Histogram of boot_data\")\n",
    "    plt.show()\n",
    "       \n",
    "    return {\"boot_data\": boot_data, \n",
    "            \"ci\": ci, \n",
    "            \"p_value\": p_value}"
   ]
  },
  {
   "cell_type": "code",
   "execution_count": 46,
   "metadata": {},
   "outputs": [
    {
     "data": {
      "application/vnd.jupyter.widget-view+json": {
       "model_id": "945967079cb74df5a3e59b46c91261ed",
       "version_major": 2,
       "version_minor": 0
      },
      "text/plain": [
       "HBox(children=(FloatProgress(value=0.0, max=1000.0), HTML(value='')))"
      ]
     },
     "metadata": {},
     "output_type": "display_data"
    },
    {
     "name": "stdout",
     "output_type": "stream",
     "text": [
      "\n"
     ]
    },
    {
     "data": {
      "image/png": "[encoded data removed]",
      "text/plain": [
       "<Figure size 432x288 with 1 Axes>"
      ]
     },
     "metadata": {},
     "output_type": "display_data"
    }
   ],
   "source": [
    "booted_data_arpu = get_bootstrap(a_group.payment, b_group.payment)"
   ]
  },
  {
   "cell_type": "code",
   "execution_count": 47,
   "metadata": {},
   "outputs": [
    {
     "data": {
      "text/plain": [
       "0.03520597878302658"
      ]
     },
     "execution_count": 47,
     "metadata": {},
     "output_type": "execute_result"
    }
   ],
   "source": [
    "booted_data_arpu[\"p_value\"] # альфа"
   ]
  },
  {
   "cell_type": "code",
   "execution_count": 48,
   "metadata": {},
   "outputs": [
    {
     "name": "stdout",
     "output_type": "stream",
     "text": [
      "P-value 0.0352 < 0.05, отклоняем H0, наблюдаются стат. значимые различия arpu между группами!\n"
     ]
    }
   ],
   "source": [
    "print(f'P-value {round(booted_data_arpu[\"p_value\"], 4)} < 0.05, отклоняем H0, наблюдаются стат. значимые различия arpu между группами!')"
   ]
  },
  {
   "cell_type": "markdown",
   "metadata": {},
   "source": [
    "**ARPPU** - cредний платеж на всех платящих пользователей."
   ]
  },
  {
   "cell_type": "markdown",
   "metadata": {},
   "source": [
    "### Гипотеза для ARPPU:\n",
    "Н0: Разница между ARPPU в тестовой и контрольной группе отсутствует.\n",
    "\n",
    "Н1: Разница между ARPPU в тестовой и контрольной группе статистически значима."
   ]
  },
  {
   "cell_type": "code",
   "execution_count": 49,
   "metadata": {},
   "outputs": [
    {
     "name": "stdout",
     "output_type": "stream",
     "text": [
      "ARPPU для контрольной группы 933.59!\n",
      "ARPPU для целевой группы 1257.88!\n",
      "Средний чек платящих пользователей увеличился на 34.74%!\n"
     ]
    }
   ],
   "source": [
    "arppu_a = round(a_group.payment.sum() / a_group.query('payment > 0').agg({'id':'count'})[0], 2)\n",
    "arppu_b = round(b_group.payment.sum() / b_group.query('payment > 0').agg({'id':'count'})[0], 2)\n",
    "diff_arppu = round((arppu_b/arppu_a - 1) * 100, 2)\n",
    "print(f'ARPPU для контрольной группы {arppu_a}!')\n",
    "print(f'ARPPU для целевой группы {arppu_b}!')\n",
    "print(f'Средний чек платящих пользователей увеличился на {diff_arppu}%!')"
   ]
  },
  {
   "cell_type": "code",
   "execution_count": 50,
   "metadata": {},
   "outputs": [
    {
     "data": {
      "application/vnd.jupyter.widget-view+json": {
       "model_id": "dff174d8565949b28086f66ea4220052",
       "version_major": 2,
       "version_minor": 0
      },
      "text/plain": [
       "HBox(children=(FloatProgress(value=0.0, max=1000.0), HTML(value='')))"
      ]
     },
     "metadata": {},
     "output_type": "display_data"
    },
    {
     "name": "stdout",
     "output_type": "stream",
     "text": [
      "\n"
     ]
    },
    {
     "data": {
      "image/png": "[encoded data removed]",
      "text/plain": [
       "<Figure size 432x288 with 1 Axes>"
      ]
     },
     "metadata": {},
     "output_type": "display_data"
    }
   ],
   "source": [
    "booted_data_arppu = get_bootstrap(paying_users.query(\"grp == 'B'\").payment, paying_users.query(\"grp == 'A'\").payment)"
   ]
  },
  {
   "cell_type": "code",
   "execution_count": 51,
   "metadata": {},
   "outputs": [
    {
     "data": {
      "text/plain": [
       "1.5474406701665842e-06"
      ]
     },
     "execution_count": 51,
     "metadata": {},
     "output_type": "execute_result"
    }
   ],
   "source": [
    "booted_data_arppu[\"p_value\"] # альфа"
   ]
  },
  {
   "cell_type": "code",
   "execution_count": 52,
   "metadata": {},
   "outputs": [
    {
     "name": "stdout",
     "output_type": "stream",
     "text": [
      "P-value 0.0 < 0.05, отклоняем H0, наблюдаются стат. значимые различия arpu между группами!\n"
     ]
    }
   ],
   "source": [
    "print(f'P-value {round(booted_data_arppu[\"p_value\"], 4)} < 0.05, отклоняем H0, наблюдаются стат. значимые различия arpu между группами!')"
   ]
  },
  {
   "cell_type": "markdown",
   "metadata": {},
   "source": [
    "**Update**: t-test в данном случае вполне применим, т.к распределение разниц между группами при Bootstrap было близко к нормальному -> ЦПР вполне себе работает (но это не точно) -> применение теста будет уместным."
   ]
  },
  {
   "cell_type": "markdown",
   "metadata": {},
   "source": [
    "### Выводы:\n",
    "\n",
    "- Конверсия в покупку у контрольной группы больше чем у тестовой на 10.87% и это изменение статистически не значимо. \n",
    "- Средний чек на акт. пользователя увеличился на 22.62%, измения являются статистически значимыми.\n",
    "- Средний чек платящих пользователей увеличился на 34.74%, это изменение статистически значимо.\n",
    "\n",
    "Таким образом, переходов активных пользователей в покупку больше не стало, но, при этом, пользователи стали чаще оплачивать более дорогостоящие услуги -> выручка выросла как на активного пользователя, так и на платящего, что для бизнеса всегда хорошо, хотя для тестирования механики новой оплаты важнее всё-таки конверсия. \n",
    "\n",
    "В идеале, я бы сначала уточнила несколько моментов, т.к. были замечены некоторые ошибки: не все платящие считались активными, наблюдались значительные выбросы в оплатах (а имеенно большое кол-во оплат  на определенную сумму - 1900 р) и наличие дисбаланса в распределении между выборками (test - 80%, control - 20%, что уже необычно, перепутали группы или обратный аб тест?), что не является проблемой, когда выборки объемные, но, например, при тестировании arppu, наблюдений было достаточно мало. \n",
    "\n",
    "Если ошибки подтверждаются, то с выкатом необходимо повременить, сначала устранить ошибки и провести повторный тест."
   ]
  },
  {
   "cell_type": "markdown",
   "metadata": {},
   "source": [
    "### Задание 2. SQL\n",
    "2.1 Очень усердные ученики.\n",
    "Так в таблице данные предтсавлены только за одни сутки, а условие задачи показать кол-во усердный учеников за месяц, то делаем вид, что все данные есть. "
   ]
  },
  {
   "cell_type": "code",
   "execution_count": 53,
   "metadata": {},
   "outputs": [],
   "source": [
    "connection_default = {'host': 'http://clickhouse.beslan.pro:8080',\n",
    "                      'database':'default',\n",
    "                      'user':'student', \n",
    "                      'password':'dpo_python_2020'}"
   ]
  },
  {
   "cell_type": "code",
   "execution_count": 54,
   "metadata": {},
   "outputs": [],
   "source": [
    "connection_test = dict(database='test',\n",
    "                  host='http://clickhouse.beslan.pro:8080',\n",
    "                  user='student-rw',\n",
    "                  password='656e2b0c9c')"
   ]
  },
  {
   "cell_type": "code",
   "execution_count": 55,
   "metadata": {},
   "outputs": [],
   "source": [
    "query = \"\"\"\n",
    "--select min(timest),\n",
    "--max(timest) from default.peas\n",
    "SELECT COUNTIF(DISTINCT st_id, solved_tasks >= 20) as diligent_students FROM\n",
    "    (\n",
    "    SELECT SUM(correct) as solved_tasks,\n",
    "    st_id\n",
    "    FROM default.peas\n",
    "    WHERE DATE_TRUNC('month', timest) = '2020-03-01'\n",
    "    GROUP BY st_id\n",
    "    )\n",
    "\"\"\"\n",
    "df_1 = ph.read_clickhouse(query, connection=connection_default)"
   ]
  },
  {
   "cell_type": "code",
   "execution_count": 56,
   "metadata": {},
   "outputs": [
    {
     "data": {
      "text/html": [
       "<div>\n",
       "<style scoped>\n",
       "    .dataframe tbody tr th:only-of-type {\n",
       "        vertical-align: middle;\n",
       "    }\n",
       "\n",
       "    .dataframe tbody tr th {\n",
       "        vertical-align: top;\n",
       "    }\n",
       "\n",
       "    .dataframe thead th {\n",
       "        text-align: right;\n",
       "    }\n",
       "</style>\n",
       "<table border=\"1\" class=\"dataframe\">\n",
       "  <thead>\n",
       "    <tr style=\"text-align: right;\">\n",
       "      <th></th>\n",
       "      <th>diligent_students</th>\n",
       "    </tr>\n",
       "  </thead>\n",
       "  <tbody>\n",
       "    <tr>\n",
       "      <th>0</th>\n",
       "      <td>0</td>\n",
       "    </tr>\n",
       "  </tbody>\n",
       "</table>\n",
       "</div>"
      ],
      "text/plain": [
       "   diligent_students\n",
       "0                  0"
      ]
     },
     "execution_count": 56,
     "metadata": {},
     "output_type": "execute_result"
    }
   ],
   "source": [
    "df_1"
   ]
  },
  {
   "cell_type": "markdown",
   "metadata": {},
   "source": [
    "### 2.2 Оптимизация воронки"
   ]
  },
  {
   "cell_type": "code",
   "execution_count": 57,
   "metadata": {},
   "outputs": [],
   "source": [
    "query = \"\"\"\n",
    "with active as (\n",
    "SELECT\n",
    "    distinct st_id AS st_id,\n",
    "    sum(correct) > 10 AS active,\n",
    "    sumIf(correct, subject = 'Math') >= 2 AS math_active\n",
    "FROM\n",
    "    default.peas\n",
    "GROUP BY\n",
    "    st_id)\n",
    "SELECT\n",
    "test_grp,\n",
    "revenue / all_students as arpu, -- ARPU \n",
    "active_revenue / active_students as arpau, -- ARPAU\n",
    "pay_students / all_students * 100 as cr, -- CR в покупку\n",
    "pay_active_students / active_students * 100 as cr_active, -- СR активного пользователя в покупку \n",
    "math_act_pay_students / math_active_students * 100 as cr_math -- CR пользователя из активности по математике (subject = ’math’) в покупку курса по математике\n",
    "FROM (\n",
    "    SELECT \n",
    "    count(DISTINCT st.st_id) as all_students, -- все студенты\n",
    "    sum(f.money) as revenue, -- выручка\n",
    "    countIf(DISTINCT st.st_id, f.money > 0) as pay_students, -- платящие студенты \n",
    "    countIf(DISTINCT st.st_id, a.active = 1) as active_students, -- активные студенты (>10 задач)\n",
    "    sumIf(f.money, a.active = 1) as active_revenue, -- выручка активных студентов\n",
    "    countIf(DISTINCT st.st_id, a.active = 1 and f.money > 0) as pay_active_students, -- активные платящие студенты\n",
    "    countIf(DISTINCT st.st_id, math_active = 1) as math_active_students, -- активные в математике\n",
    "    countIf(DISTINCT st.st_id, math_active = 1 and f.money > 0 and f.subject = 'Math') as math_act_pay_students, \n",
    "    test_grp\n",
    "    FROM default.studs as st\n",
    "    LEFT JOIN active as a\n",
    "    ON st.st_id = a.st_id\n",
    "    LEFT JOIN default.final_project_check as f \n",
    "    ON a.st_id = f.st_id\n",
    "    group by test_grp\n",
    "    )\n",
    "\"\"\"\n",
    "df_2 = ph.read_clickhouse(query, connection=connection_default)"
   ]
  },
  {
   "cell_type": "code",
   "execution_count": 58,
   "metadata": {},
   "outputs": [
    {
     "data": {
      "text/html": [
       "<div>\n",
       "<style scoped>\n",
       "    .dataframe tbody tr th:only-of-type {\n",
       "        vertical-align: middle;\n",
       "    }\n",
       "\n",
       "    .dataframe tbody tr th {\n",
       "        vertical-align: top;\n",
       "    }\n",
       "\n",
       "    .dataframe thead th {\n",
       "        text-align: right;\n",
       "    }\n",
       "</style>\n",
       "<table border=\"1\" class=\"dataframe\">\n",
       "  <thead>\n",
       "    <tr style=\"text-align: right;\">\n",
       "      <th></th>\n",
       "      <th>test_grp</th>\n",
       "      <th>arpu</th>\n",
       "      <th>arpau</th>\n",
       "      <th>cr</th>\n",
       "      <th>cr_active</th>\n",
       "      <th>cr_math</th>\n",
       "    </tr>\n",
       "  </thead>\n",
       "  <tbody>\n",
       "    <tr>\n",
       "      <th>0</th>\n",
       "      <td>control</td>\n",
       "      <td>4540.98</td>\n",
       "      <td>10393.70</td>\n",
       "      <td>4.92</td>\n",
       "      <td>11.02</td>\n",
       "      <td>6.12</td>\n",
       "    </tr>\n",
       "    <tr>\n",
       "      <th>1</th>\n",
       "      <td>pilot</td>\n",
       "      <td>11067.80</td>\n",
       "      <td>29739.58</td>\n",
       "      <td>10.17</td>\n",
       "      <td>26.04</td>\n",
       "      <td>9.52</td>\n",
       "    </tr>\n",
       "  </tbody>\n",
       "</table>\n",
       "</div>"
      ],
      "text/plain": [
       "  test_grp      arpu     arpau     cr  cr_active  cr_math\n",
       "0  control   4540.98  10393.70   4.92      11.02     6.12\n",
       "1    pilot  11067.80  29739.58  10.17      26.04     9.52"
      ]
     },
     "execution_count": 58,
     "metadata": {},
     "output_type": "execute_result"
    }
   ],
   "source": [
    "df_2.round(2)"
   ]
  },
  {
   "cell_type": "markdown",
   "metadata": {},
   "source": [
    "### 3.1 Задача\n",
    "\n",
    "Реализуйте функцию, которая будет автоматически подгружать информацию из дополнительного файла groups_add.csv (заголовки могут отличаться) и на основании дополнительных параметров пересчитывать метрики.\n",
    "Реализуйте функцию, которая будет строить графики по получаемым метрикам."
   ]
  },
  {
   "cell_type": "code",
   "execution_count": 59,
   "metadata": {},
   "outputs": [],
   "source": [
    "# Функция импортирует данные из файл в копию указанного датафрейма и возвращает новый.\n",
    "def concat_from_filename(df, filename, opts):\n",
    "    sep = opts.get('sep', ';') #разделитель данных CSV\n",
    "    col_id = opts.get('id', '') #название колонки id\n",
    "    col_group = opts.get('group', '') #название колонки grp\n",
    "\n",
    "    df2 = pd.read_csv(filename, sep=sep, usecols=[ col_id, col_group ]) \n",
    "    result = pd.concat([df, df2], ignore_index=True) \n",
    "    return result"
   ]
  },
  {
   "cell_type": "code",
   "execution_count": 60,
   "metadata": {},
   "outputs": [],
   "source": [
    "def metrics(\n",
    "      group_add,  # dataframe\n",
    "      groups_fn='Проект_2_groups.csv', \n",
    "      active_stud_fn='Проект_2_active_studs.csv',\n",
    "      checks_fn='Проект_2_checks.csv',\n",
    "):\n",
    "\n",
    "    final_groups = pd.concat([groups, group_add]) \n",
    "    act_checks = active_students.merge(\n",
    "        checks, \n",
    "        how='left', \n",
    "        on='student_id')\\\n",
    "    .rename(columns={\"student_id\": \"id\", \"grp\" : \"group\", \"rev\" : \"payment\"})\n",
    "    \n",
    "    data_active = act_checks.merge(\n",
    "        final_groups, \n",
    "        on='id', \n",
    "        how='left').fillna(0) \n",
    "    # cформируем группы\n",
    "    a_group = data_active.query('grp==\"A\"')\n",
    "    b_group = data_active.query('grp==\"B\"')\n",
    "    \n",
    "    #CR\n",
    "    cr_a = round(a_group.query('payment > 0').id.count() / a_group.id.count(), 3)\n",
    "    cr_b = round(b_group.query('payment > 0').id.count() / b_group.id.count(), 3)\n",
    "    \n",
    "    #ARPU\n",
    "    #paying_users = data_active.query('payment > 0')\n",
    "    arpu_a = round(a_group.payment.sum() / a_group.agg({'id':'count'})[0], 2)\n",
    "    arpu_b = round(b_group.payment.sum() / b_group.agg({'id':'count'})[0], 2)\n",
    "    \n",
    "    #ARPPU\n",
    "    arppu_a = round(a_group.payment.sum() / a_group.query('payment > 0').agg({'id' : 'count'})[0], 2)\n",
    "    arppu_b = round(b_group.payment.sum() / b_group.query('payment > 0').agg({'id' : 'count'})[0], 2)\n",
    "    \n",
    "    df = {\n",
    "        'grp': ['a_group', 'b_group'], \n",
    "        'CR': [cr_a, cr_b], \n",
    "        'ARPU': [arpu_a, arpu_b], \n",
    "        'ARPPU': [arppu_a, arppu_b],\n",
    "    }\n",
    "    \n",
    "    return pd.DataFrame(data = df)"
   ]
  },
  {
   "cell_type": "code",
   "execution_count": 61,
   "metadata": {},
   "outputs": [],
   "source": [
    "def metrics_charts(df):\n",
    "    fig, ax = plt.subplots(nrows = 2, ncols = 2, figsize = (11, 12))\n",
    "    sns.boxplot(x=paying_users['payment'], y=paying_users['grp'], ax = ax[1][1], palette = 'coolwarm').set_title('Payment Distribution')\n",
    "    sns.barplot(x=df['grp'], y=df['CR'], ax=ax[0][0], palette='coolwarm').set_title('CR')\n",
    "    sns.barplot(x=df['grp'], y=df['ARPU'], ax=ax[0][1], palette='coolwarm').set_title('ARPU')\n",
    "    sns.barplot(x=df['grp'], y=df['ARPPU'], ax=ax[1][0], palette='coolwarm').set_title('ARPPU') "
   ]
  },
  {
   "cell_type": "code",
   "execution_count": 62,
   "metadata": {},
   "outputs": [
    {
     "name": "stdout",
     "output_type": "stream",
     "text": [
      "       grp     CR   ARPU    ARPPU\n",
      "0  a_group  0.051  47.39   933.59\n",
      "1  b_group  0.046  57.96  1256.85\n"
     ]
    },
    {
     "data": {
      "image/png": "[encoded data removed]",
      "text/plain": [
       "<Figure size 792x864 with 4 Axes>"
      ]
     },
     "metadata": {},
     "output_type": "display_data"
    }
   ],
   "source": [
    "# загружает group_add и джойним с groups возвращая новый объект dataframe\n",
    "grp_add_df = concat_from_filename(groups, \"Проект_2_group_add.csv\", dict(\n",
    "  id=\"id\",\n",
    "  group=\"grp\",\n",
    "  sep=\",\",\n",
    "))\n",
    "\n",
    "result = metrics(grp_add_df)\n",
    "\n",
    "print(result)\n",
    "\n",
    "metrics_charts(result)"
   ]
  }
 ],
 "metadata": {
  "kernelspec": {
   "display_name": "Python 3",
   "language": "python",
   "name": "python3"
  },
  "language_info": {
   "codemirror_mode": {
    "name": "ipython",
    "version": 3
   },
   "file_extension": ".py",
   "mimetype": "text/x-python",
   "name": "python",
   "nbconvert_exporter": "python",
   "pygments_lexer": "ipython3",
   "version": "3.7.3"
  }
 },
 "nbformat": 4,
 "nbformat_minor": 4
}
